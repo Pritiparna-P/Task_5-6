{
 "cells": [
  {
   "cell_type": "markdown",
   "id": "e05405f2-e26a-4e12-8cb4-836469e0fc53",
   "metadata": {},
   "source": [
    "Pritiparna panigrahy-IT \n",
    " (TASK 6)"
   ]
  },
  {
   "cell_type": "code",
   "execution_count": 6,
   "id": "9d81dc7b-d0c3-4375-8b61-095f0116e973",
   "metadata": {},
   "outputs": [
    {
     "data": {
      "text/plain": [
       "[{'title': 'A Light in the Attic', 'price': 'Â£51.77'},\n",
       " {'title': 'Tipping the Velvet', 'price': 'Â£53.74'},\n",
       " {'title': 'Soumission', 'price': 'Â£50.10'},\n",
       " {'title': 'Sharp Objects', 'price': 'Â£47.82'},\n",
       " {'title': 'Sapiens: A Brief History of Humankind', 'price': 'Â£54.23'},\n",
       " {'title': 'The Requiem Red', 'price': 'Â£22.65'},\n",
       " {'title': 'The Dirty Little Secrets of Getting Your Dream Job',\n",
       "  'price': 'Â£33.34'},\n",
       " {'title': 'The Coming Woman: A Novel Based on the Life of the Infamous Feminist, Victoria Woodhull',\n",
       "  'price': 'Â£17.93'},\n",
       " {'title': 'The Boys in the Boat: Nine Americans and Their Epic Quest for Gold at the 1936 Berlin Olympics',\n",
       "  'price': 'Â£22.60'},\n",
       " {'title': 'The Black Maria', 'price': 'Â£52.15'},\n",
       " {'title': 'Starving Hearts (Triangular Trade Trilogy, #1)',\n",
       "  'price': 'Â£13.99'},\n",
       " {'title': \"Shakespeare's Sonnets\", 'price': 'Â£20.66'},\n",
       " {'title': 'Set Me Free', 'price': 'Â£17.46'},\n",
       " {'title': \"Scott Pilgrim's Precious Little Life (Scott Pilgrim #1)\",\n",
       "  'price': 'Â£52.29'},\n",
       " {'title': 'Rip it Up and Start Again', 'price': 'Â£35.02'},\n",
       " {'title': 'Our Band Could Be Your Life: Scenes from the American Indie Underground, 1981-1991',\n",
       "  'price': 'Â£57.25'},\n",
       " {'title': 'Olio', 'price': 'Â£23.88'},\n",
       " {'title': 'Mesaerion: The Best Science Fiction Stories 1800-1849',\n",
       "  'price': 'Â£37.59'},\n",
       " {'title': 'Libertarianism for Beginners', 'price': 'Â£51.33'},\n",
       " {'title': \"It's Only the Himalayas\", 'price': 'Â£45.17'},\n",
       " {'title': 'In Her Wake', 'price': 'Â£12.84'},\n",
       " {'title': 'How Music Works', 'price': 'Â£37.32'},\n",
       " {'title': 'Foolproof Preserving: A Guide to Small Batch Jams, Jellies, Pickles, Condiments, and More: A Foolproof Guide to Making Small Batch Jams, Jellies, Pickles, Condiments, and More',\n",
       "  'price': 'Â£30.52'},\n",
       " {'title': 'Chase Me (Paris Nights #2)', 'price': 'Â£25.27'},\n",
       " {'title': 'Black Dust', 'price': 'Â£34.53'},\n",
       " {'title': 'Birdsong: A Story in Pictures', 'price': 'Â£54.64'},\n",
       " {'title': \"America's Cradle of Quarterbacks: Western Pennsylvania's Football Factory from Johnny Unitas to Joe Montana\",\n",
       "  'price': 'Â£22.50'},\n",
       " {'title': 'Aladdin and His Wonderful Lamp', 'price': 'Â£53.13'},\n",
       " {'title': 'Worlds Elsewhere: Journeys Around Shakespeareâ\\x80\\x99s Globe',\n",
       "  'price': 'Â£40.30'},\n",
       " {'title': 'Wall and Piece', 'price': 'Â£44.18'},\n",
       " {'title': 'The Four Agreements: A Practical Guide to Personal Freedom',\n",
       "  'price': 'Â£17.66'},\n",
       " {'title': 'The Five Love Languages: How to Express Heartfelt Commitment to Your Mate',\n",
       "  'price': 'Â£31.05'},\n",
       " {'title': 'The Elephant Tree', 'price': 'Â£23.82'},\n",
       " {'title': 'The Bear and the Piano', 'price': 'Â£36.89'},\n",
       " {'title': \"Sophie's World\", 'price': 'Â£15.94'},\n",
       " {'title': 'Penny Maybe', 'price': 'Â£33.29'},\n",
       " {'title': 'Maude (1883-1993):She Grew Up with the country',\n",
       "  'price': 'Â£18.02'},\n",
       " {'title': 'In a Dark, Dark Wood', 'price': 'Â£19.63'},\n",
       " {'title': 'Behind Closed Doors', 'price': 'Â£52.22'},\n",
       " {'title': \"You can't bury them all: Poems\", 'price': 'Â£33.63'}]"
      ]
     },
     "execution_count": 6,
     "metadata": {},
     "output_type": "execute_result"
    }
   ],
   "source": [
    "import requests\n",
    "from bs4 import BeautifulSoup\n",
    "\n",
    "books = []\n",
    "\n",
    "for page in range(1, 3):\n",
    "    soup = BeautifulSoup(requests.get(f\"http://books.toscrape.com/catalogue/page-{page}.html\").text, 'html.parser')\n",
    "    for b in soup.select('article.product_pod'):\n",
    "        books.append({\n",
    "            'title': b.h3.a['title'],\n",
    "            'price': b.select_one('p.price_color').text\n",
    "        })\n",
    "books\n"
   ]
  },
  {
   "cell_type": "code",
   "execution_count": 8,
   "id": "23a8be61-9a25-4c93-808a-b577cbc9b3c5",
   "metadata": {},
   "outputs": [
    {
     "name": "stdout",
     "output_type": "stream",
     "text": [
      "       City    Description Temperature\n",
      "0    London  Partly cloudy       +19°C\n",
      "1  New York     Heavy rain       +23°C\n",
      "2     Tokyo  Partly cloudy       +26°C\n",
      "3     Paris          Clear       +21°C\n",
      "4    Sydney    Rain shower       +13°C\n"
     ]
    }
   ],
   "source": [
    "import requests\n",
    "import pandas as pd\n",
    "cities = [\"London\", \"New York\", \"Tokyo\", \"Paris\", \"Sydney\"]\n",
    "data = []\n",
    "for city in cities:\n",
    "    url = f\"https://wttr.in/{city}?format=%C+%t\"\n",
    "    response = requests.get(url)\n",
    "    weather = response.text.strip().split()\n",
    "    description = \" \".join(weather[:-1])\n",
    "    temperature = weather[-1]\n",
    "    data.append({\n",
    "        \"City\": city,\n",
    "        \"Description\": description,\n",
    "        \"Temperature\": temperature\n",
    "    })\n",
    "df = pd.DataFrame(data)\n",
    "print(df)"
   ]
  },
  {
   "cell_type": "code",
   "execution_count": 12,
   "id": "23673ee5-a5a0-48ae-8651-1cd3bc74f674",
   "metadata": {},
   "outputs": [
    {
     "name": "stdout",
     "output_type": "stream",
     "text": [
      "                 Job Title                     Company              Location\n",
      "0  Senior Python Developer    Payne, Roberts and Davis       Stewartbury, AA\n",
      "1          Energy engineer            Vasquez-Davidson  Christopherville, AA\n",
      "2          Legal executive  Jackson, Chambers and Levy   Port Ericaburgh, AA\n",
      "3   Fitness centre manager              Savage-Bradley     East Seanview, AP\n",
      "4          Product manager                 Ramirez Inc   North Jamieview, AP\n"
     ]
    }
   ],
   "source": [
    "import requests\n",
    "from bs4 import BeautifulSoup\n",
    "import pandas as pd\n",
    "\n",
    "url = \"https://realpython.github.io/fake-jobs/\"\n",
    "response = requests.get(url)\n",
    "soup = BeautifulSoup(response.text, 'html.parser')\n",
    "\n",
    "job_data = []\n",
    "job_cards = soup.find_all('div', class_='card-content')\n",
    "for card in job_cards:\n",
    "    title_tag = card.find('h2', class_='title')\n",
    "    company_tag = card.find('h3', class_='company')\n",
    "    location_tag = card.find('p', class_='location')\n",
    "\n",
    "    if title_tag and company_tag and location_tag:\n",
    "        job_data.append({\n",
    "            'Job Title': title_tag.get_text(strip=True),\n",
    "            'Company': company_tag.get_text(strip=True),\n",
    "            'Location': location_tag.get_text(strip=True)\n",
    "        })\n",
    "df = pd.DataFrame(job_data)\n",
    "df.to_csv('fake_jobs.csv', index=False)\n",
    "print(df.head())\n"
   ]
  },
  {
   "cell_type": "code",
   "execution_count": null,
   "id": "683b013e-a601-4d13-b806-baa5b656e40c",
   "metadata": {},
   "outputs": [],
   "source": []
  }
 ],
 "metadata": {
  "kernelspec": {
   "display_name": "Python [conda env:base] *",
   "language": "python",
   "name": "conda-base-py"
  },
  "language_info": {
   "codemirror_mode": {
    "name": "ipython",
    "version": 3
   },
   "file_extension": ".py",
   "mimetype": "text/x-python",
   "name": "python",
   "nbconvert_exporter": "python",
   "pygments_lexer": "ipython3",
   "version": "3.13.5"
  }
 },
 "nbformat": 4,
 "nbformat_minor": 5
}
